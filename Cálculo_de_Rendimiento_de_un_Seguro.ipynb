{
  "nbformat": 4,
  "nbformat_minor": 0,
  "metadata": {
    "colab": {
      "private_outputs": true,
      "provenance": [],
      "authorship_tag": "ABX9TyMayD7Gmm+PjVJ4rlfkjC6l",
      "include_colab_link": true
    },
    "kernelspec": {
      "name": "python3",
      "display_name": "Python 3"
    },
    "language_info": {
      "name": "python"
    }
  },
  "cells": [
    {
      "cell_type": "markdown",
      "metadata": {
        "id": "view-in-github",
        "colab_type": "text"
      },
      "source": [
        "<a href=\"https://colab.research.google.com/github/WellcomePeujio/Calculo-de-Rendimiento-de-un-Seguro/blob/main/C%C3%A1lculo_de_Rendimiento_de_un_Seguro.ipynb\" target=\"_parent\"><img src=\"https://colab.research.google.com/assets/colab-badge.svg\" alt=\"Open In Colab\"/></a>"
      ]
    },
    {
      "cell_type": "markdown",
      "source": [
        "# Cálculo de Rendimiento de un Seguro\n",
        "\n",
        "## Problema\n",
        "\n",
        "Una persona paga **500 dólares** anuales por un seguro de vida y recibe **10,000 dólares** en caso de fallecimiento. La probabilidad estimada de fallecimiento es del **0.01%** anual.\n",
        "\n",
        "## Preguntas:\n",
        "\n",
        "1. **Calcula el valor esperado del seguro.**\n",
        "2. **¿Vale la pena pagar este seguro en términos financieros?**\n",
        "\n"
      ],
      "metadata": {
        "id": "yE4LUK1yyK_A"
      }
    },
    {
      "cell_type": "markdown",
      "source": [
        "# Resolución Matemática: Cálculo de Rendimiento de un Seguro\n",
        "\n",
        "## Datos del problema:\n",
        "\n",
        "- **Pago anual del seguro**: 500 dólares\n",
        "- **Monto recibido en caso de fallecimiento**: 10,000 dólares\n",
        "- **Probabilidad anual de fallecimiento**: 0.01% (o 0.0001)\n",
        "\n",
        "## 1. Cálculo del Valor Esperado del Seguro\n",
        "\n",
        "El valor esperado (\\(E\\)) de un seguro se calcula con la siguiente fórmula:\n",
        "\n",
        "$$\n",
        "E = (P(\\text{fallecimiento}) \\times \\text{Monto recibido}) + (P(\\text{no fallecimiento}) \\times \\text{Pago anual})\n",
        "$$\n",
        "\n",
        "Donde:\n",
        "- \\$(P(\\text{fallecimiento})\\$) es la probabilidad de fallecimiento,\n",
        "- \\$(P(\\text{no fallecimiento})\\$) es la probabilidad de no fallecimiento, que es \\$(1 - P(\\text{fallecimiento})\\$).\n",
        "\n",
        "### Paso 1: Determinar las probabilidades\n",
        "\n",
        "- Probabilidad de fallecimiento: \\$(P(\\text{fallecimiento}) = 0.0001\\$)\n",
        "- Probabilidad de no fallecimiento:\n",
        "\n",
        "$$\n",
        "P(\\text{no fallecimiento}) = 1 - P(\\text{fallecimiento}) = 1 - 0.0001 = 0.9999\n",
        "$$\n",
        "\n",
        "### Paso 2: Sustitución en la fórmula\n",
        "\n",
        "Sustituyendo los valores en la fórmula del valor esperado:\n",
        "\n",
        "$$\n",
        "E = (0.0001 \\times 10,000) + (0.9999 \\times (-500))\n",
        "$$\n",
        "\n",
        "### Paso 3: Cálculo del valor esperado\n",
        "\n",
        "$$\n",
        "E = (1) + (-499.95) = -498.95\n",
        "$$\n",
        "\n",
        "## 2. Análisis del Valor Esperado\n",
        "\n",
        "El valor esperado del seguro es **-498.95 dólares**. Esto significa que, en promedio, se espera perder **$498.95** anualmente al pagar este seguro.\n",
        "\n",
        "## 3. ¿Vale la pena pagar este seguro en términos financieros?\n",
        "\n",
        "Desde una perspectiva puramente financiera, el seguro tiene un valor esperado negativo, lo que indica que, en promedio, se pierde dinero al pagar este seguro. Sin embargo, es importante tener en cuenta que los seguros no solo se evalúan desde una perspectiva financiera; también se consideran la seguridad financiera y la tranquilidad que brindan en caso de eventos inesperados.\n",
        "\n",
        "---\n"
      ],
      "metadata": {
        "id": "MQiDEKoNyk95"
      }
    },
    {
      "cell_type": "code",
      "source": [
        "import matplotlib.pyplot as plt\n",
        "import numpy as np\n",
        "\n",
        "# Datos del problema\n",
        "pago_anual_seguro = 500  # Pago anual del seguro en dólares\n",
        "monto_fallecimiento = 10000  # Monto recibido en caso de fallecimiento en dólares\n",
        "probabilidad_fallecimiento = 0.0001  # Probabilidad anual de fallecimiento\n",
        "\n",
        "# Cálculo del valor esperado del seguro\n",
        "valor_esperado = (probabilidad_fallecimiento * monto_fallecimiento) + ((1 - probabilidad_fallecimiento) * (-pago_anual_seguro))\n",
        "\n",
        "# Imprimir el valor esperado\n",
        "print(f\"Valor esperado del seguro: ${valor_esperado:.2f}\")\n",
        "\n",
        "# Graficar el valor esperado y el costo del seguro\n",
        "categorias = ['Monto Recibido (Fallecimiento)', 'Pago Anual']\n",
        "valores = [probabilidad_fallecimiento * monto_fallecimiento, (1 - probabilidad_fallecimiento) * -pago_anual_seguro]\n",
        "\n",
        "plt.figure(figsize=(8, 6))\n",
        "plt.bar(categorias, valores, color=['green', 'red'])\n",
        "plt.title('Valor Esperado del Seguro')\n",
        "plt.ylabel('Valor en Dólares')\n",
        "plt.annotate(f'${valores[0]:.2f}', xy=(0, valores[0]), xytext=(0, valores[0] + 50),\n",
        "             ha='center', color='black', fontsize=12)\n",
        "plt.annotate(f'${valores[1]:.2f}', xy=(1, valores[1]), xytext=(1, valores[1] - 100),\n",
        "             ha='center', color='black', fontsize=12)\n",
        "plt.grid(True)\n",
        "plt.show()"
      ],
      "metadata": {
        "id": "5Vmsud2szoJe"
      },
      "execution_count": null,
      "outputs": []
    }
  ]
}